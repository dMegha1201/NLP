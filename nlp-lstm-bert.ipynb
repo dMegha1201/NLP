{
 "cells": [
  {
   "cell_type": "code",
   "execution_count": 1,
   "id": "0598362e",
   "metadata": {
    "_cell_guid": "b1076dfc-b9ad-4769-8c92-a6c4dae69d19",
    "_uuid": "8f2839f25d086af736a60e9eeb907d3b93b6e0e5",
    "execution": {
     "iopub.execute_input": "2023-07-25T07:00:20.297954Z",
     "iopub.status.busy": "2023-07-25T07:00:20.297497Z",
     "iopub.status.idle": "2023-07-25T07:00:20.303265Z",
     "shell.execute_reply": "2023-07-25T07:00:20.301954Z"
    },
    "papermill": {
     "duration": 0.03022,
     "end_time": "2023-07-25T07:00:20.307869",
     "exception": false,
     "start_time": "2023-07-25T07:00:20.277649",
     "status": "completed"
    },
    "tags": []
   },
   "outputs": [],
   "source": [
    "#!pip install ktrain"
   ]
  },
  {
   "cell_type": "markdown",
   "id": "d4184ecf",
   "metadata": {
    "papermill": {
     "duration": 0.017316,
     "end_time": "2023-07-25T07:00:20.342128",
     "exception": false,
     "start_time": "2023-07-25T07:00:20.324812",
     "status": "completed"
    },
    "tags": []
   },
   "source": [
    "# 1. Loading Datasets"
   ]
  },
  {
   "cell_type": "code",
   "execution_count": 2,
   "id": "6361cf78",
   "metadata": {
    "execution": {
     "iopub.execute_input": "2023-07-25T07:00:20.377795Z",
     "iopub.status.busy": "2023-07-25T07:00:20.377039Z",
     "iopub.status.idle": "2023-07-25T07:00:32.057124Z",
     "shell.execute_reply": "2023-07-25T07:00:32.055565Z"
    },
    "papermill": {
     "duration": 11.701351,
     "end_time": "2023-07-25T07:00:32.060153",
     "exception": false,
     "start_time": "2023-07-25T07:00:20.358802",
     "status": "completed"
    },
    "tags": []
   },
   "outputs": [
    {
     "name": "stderr",
     "output_type": "stream",
     "text": [
      "/opt/conda/lib/python3.10/site-packages/scipy/__init__.py:146: UserWarning: A NumPy version >=1.16.5 and <1.23.0 is required for this version of SciPy (detected version 1.23.5\n",
      "  warnings.warn(f\"A NumPy version >={np_minversion} and <{np_maxversion}\"\n",
      "/opt/conda/lib/python3.10/site-packages/tensorflow_io/python/ops/__init__.py:98: UserWarning: unable to load libtensorflow_io_plugins.so: unable to open file: libtensorflow_io_plugins.so, from paths: ['/opt/conda/lib/python3.10/site-packages/tensorflow_io/python/ops/libtensorflow_io_plugins.so']\n",
      "caused by: ['/opt/conda/lib/python3.10/site-packages/tensorflow_io/python/ops/libtensorflow_io_plugins.so: undefined symbol: _ZN3tsl6StatusC1EN10tensorflow5error4CodeESt17basic_string_viewIcSt11char_traitsIcEENS_14SourceLocationE']\n",
      "  warnings.warn(f\"unable to load libtensorflow_io_plugins.so: {e}\")\n",
      "/opt/conda/lib/python3.10/site-packages/tensorflow_io/python/ops/__init__.py:104: UserWarning: file system plugins are not loaded: unable to open file: libtensorflow_io.so, from paths: ['/opt/conda/lib/python3.10/site-packages/tensorflow_io/python/ops/libtensorflow_io.so']\n",
      "caused by: ['/opt/conda/lib/python3.10/site-packages/tensorflow_io/python/ops/libtensorflow_io.so: undefined symbol: _ZTVN10tensorflow13GcsFileSystemE']\n",
      "  warnings.warn(f\"file system plugins are not loaded: {e}\")\n"
     ]
    }
   ],
   "source": [
    "import pandas as pd\n",
    "import numpy as np\n",
    "import matplotlib.pyplot as plt\n",
    "import seaborn as sns\n",
    "import tensorflow as tf"
   ]
  },
  {
   "cell_type": "code",
   "execution_count": 3,
   "id": "6cada612",
   "metadata": {
    "execution": {
     "iopub.execute_input": "2023-07-25T07:00:32.096962Z",
     "iopub.status.busy": "2023-07-25T07:00:32.096051Z",
     "iopub.status.idle": "2023-07-25T07:00:32.196484Z",
     "shell.execute_reply": "2023-07-25T07:00:32.195192Z"
    },
    "papermill": {
     "duration": 0.122007,
     "end_time": "2023-07-25T07:00:32.199366",
     "exception": false,
     "start_time": "2023-07-25T07:00:32.077359",
     "status": "completed"
    },
    "tags": []
   },
   "outputs": [
    {
     "name": "stdout",
     "output_type": "stream",
     "text": [
      "Training Data:  (7613, 5)\n",
      "Testing Data:  (3263, 4)\n"
     ]
    }
   ],
   "source": [
    "train_data = pd.read_csv('/kaggle/input/nlp-getting-started/train.csv')\n",
    "test_data = pd.read_csv('/kaggle/input/nlp-getting-started/test.csv')\n",
    "\n",
    "print('Training Data: ', train_data.shape)\n",
    "print('Testing Data: ', test_data.shape)"
   ]
  },
  {
   "cell_type": "code",
   "execution_count": 4,
   "id": "178cd933",
   "metadata": {
    "_kg_hide-output": false,
    "execution": {
     "iopub.execute_input": "2023-07-25T07:00:32.236975Z",
     "iopub.status.busy": "2023-07-25T07:00:32.236497Z",
     "iopub.status.idle": "2023-07-25T07:00:32.263562Z",
     "shell.execute_reply": "2023-07-25T07:00:32.262239Z"
    },
    "papermill": {
     "duration": 0.049227,
     "end_time": "2023-07-25T07:00:32.266505",
     "exception": false,
     "start_time": "2023-07-25T07:00:32.217278",
     "status": "completed"
    },
    "tags": []
   },
   "outputs": [
    {
     "data": {
      "text/html": [
       "<div>\n",
       "<style scoped>\n",
       "    .dataframe tbody tr th:only-of-type {\n",
       "        vertical-align: middle;\n",
       "    }\n",
       "\n",
       "    .dataframe tbody tr th {\n",
       "        vertical-align: top;\n",
       "    }\n",
       "\n",
       "    .dataframe thead th {\n",
       "        text-align: right;\n",
       "    }\n",
       "</style>\n",
       "<table border=\"1\" class=\"dataframe\">\n",
       "  <thead>\n",
       "    <tr style=\"text-align: right;\">\n",
       "      <th></th>\n",
       "      <th>id</th>\n",
       "      <th>keyword</th>\n",
       "      <th>location</th>\n",
       "      <th>text</th>\n",
       "      <th>target</th>\n",
       "    </tr>\n",
       "  </thead>\n",
       "  <tbody>\n",
       "    <tr>\n",
       "      <th>0</th>\n",
       "      <td>1</td>\n",
       "      <td>NaN</td>\n",
       "      <td>NaN</td>\n",
       "      <td>Our Deeds are the Reason of this #earthquake M...</td>\n",
       "      <td>1</td>\n",
       "    </tr>\n",
       "    <tr>\n",
       "      <th>1</th>\n",
       "      <td>4</td>\n",
       "      <td>NaN</td>\n",
       "      <td>NaN</td>\n",
       "      <td>Forest fire near La Ronge Sask. Canada</td>\n",
       "      <td>1</td>\n",
       "    </tr>\n",
       "    <tr>\n",
       "      <th>2</th>\n",
       "      <td>5</td>\n",
       "      <td>NaN</td>\n",
       "      <td>NaN</td>\n",
       "      <td>All residents asked to 'shelter in place' are ...</td>\n",
       "      <td>1</td>\n",
       "    </tr>\n",
       "    <tr>\n",
       "      <th>3</th>\n",
       "      <td>6</td>\n",
       "      <td>NaN</td>\n",
       "      <td>NaN</td>\n",
       "      <td>13,000 people receive #wildfires evacuation or...</td>\n",
       "      <td>1</td>\n",
       "    </tr>\n",
       "    <tr>\n",
       "      <th>4</th>\n",
       "      <td>7</td>\n",
       "      <td>NaN</td>\n",
       "      <td>NaN</td>\n",
       "      <td>Just got sent this photo from Ruby #Alaska as ...</td>\n",
       "      <td>1</td>\n",
       "    </tr>\n",
       "  </tbody>\n",
       "</table>\n",
       "</div>"
      ],
      "text/plain": [
       "   id keyword location                                               text  \\\n",
       "0   1     NaN      NaN  Our Deeds are the Reason of this #earthquake M...   \n",
       "1   4     NaN      NaN             Forest fire near La Ronge Sask. Canada   \n",
       "2   5     NaN      NaN  All residents asked to 'shelter in place' are ...   \n",
       "3   6     NaN      NaN  13,000 people receive #wildfires evacuation or...   \n",
       "4   7     NaN      NaN  Just got sent this photo from Ruby #Alaska as ...   \n",
       "\n",
       "   target  \n",
       "0       1  \n",
       "1       1  \n",
       "2       1  \n",
       "3       1  \n",
       "4       1  "
      ]
     },
     "execution_count": 4,
     "metadata": {},
     "output_type": "execute_result"
    }
   ],
   "source": [
    "train_data.head()"
   ]
  },
  {
   "cell_type": "markdown",
   "id": "a4277e53",
   "metadata": {
    "papermill": {
     "duration": 0.017281,
     "end_time": "2023-07-25T07:00:32.301408",
     "exception": false,
     "start_time": "2023-07-25T07:00:32.284127",
     "status": "completed"
    },
    "tags": []
   },
   "source": [
    "* Text : Text from the tweet\n",
    "* Keyword: A particular keyword from the tweet (This maybe blank)\n",
    "* Location: Location from where the tweet was sent (This maybe blank)\n",
    "* Target: Denotes whether a tweet is about real disaster (1) or not(0)"
   ]
  },
  {
   "cell_type": "code",
   "execution_count": 5,
   "id": "031df2ea",
   "metadata": {
    "execution": {
     "iopub.execute_input": "2023-07-25T07:00:32.338210Z",
     "iopub.status.busy": "2023-07-25T07:00:32.337702Z",
     "iopub.status.idle": "2023-07-25T07:00:32.354530Z",
     "shell.execute_reply": "2023-07-25T07:00:32.353301Z"
    },
    "papermill": {
     "duration": 0.039225,
     "end_time": "2023-07-25T07:00:32.357936",
     "exception": false,
     "start_time": "2023-07-25T07:00:32.318711",
     "status": "completed"
    },
    "tags": []
   },
   "outputs": [
    {
     "data": {
      "text/html": [
       "<div>\n",
       "<style scoped>\n",
       "    .dataframe tbody tr th:only-of-type {\n",
       "        vertical-align: middle;\n",
       "    }\n",
       "\n",
       "    .dataframe tbody tr th {\n",
       "        vertical-align: top;\n",
       "    }\n",
       "\n",
       "    .dataframe thead th {\n",
       "        text-align: right;\n",
       "    }\n",
       "</style>\n",
       "<table border=\"1\" class=\"dataframe\">\n",
       "  <thead>\n",
       "    <tr style=\"text-align: right;\">\n",
       "      <th></th>\n",
       "      <th>id</th>\n",
       "      <th>keyword</th>\n",
       "      <th>location</th>\n",
       "      <th>text</th>\n",
       "    </tr>\n",
       "  </thead>\n",
       "  <tbody>\n",
       "    <tr>\n",
       "      <th>0</th>\n",
       "      <td>0</td>\n",
       "      <td>NaN</td>\n",
       "      <td>NaN</td>\n",
       "      <td>Just happened a terrible car crash</td>\n",
       "    </tr>\n",
       "    <tr>\n",
       "      <th>1</th>\n",
       "      <td>2</td>\n",
       "      <td>NaN</td>\n",
       "      <td>NaN</td>\n",
       "      <td>Heard about #earthquake is different cities, s...</td>\n",
       "    </tr>\n",
       "    <tr>\n",
       "      <th>2</th>\n",
       "      <td>3</td>\n",
       "      <td>NaN</td>\n",
       "      <td>NaN</td>\n",
       "      <td>there is a forest fire at spot pond, geese are...</td>\n",
       "    </tr>\n",
       "    <tr>\n",
       "      <th>3</th>\n",
       "      <td>9</td>\n",
       "      <td>NaN</td>\n",
       "      <td>NaN</td>\n",
       "      <td>Apocalypse lighting. #Spokane #wildfires</td>\n",
       "    </tr>\n",
       "    <tr>\n",
       "      <th>4</th>\n",
       "      <td>11</td>\n",
       "      <td>NaN</td>\n",
       "      <td>NaN</td>\n",
       "      <td>Typhoon Soudelor kills 28 in China and Taiwan</td>\n",
       "    </tr>\n",
       "  </tbody>\n",
       "</table>\n",
       "</div>"
      ],
      "text/plain": [
       "   id keyword location                                               text\n",
       "0   0     NaN      NaN                 Just happened a terrible car crash\n",
       "1   2     NaN      NaN  Heard about #earthquake is different cities, s...\n",
       "2   3     NaN      NaN  there is a forest fire at spot pond, geese are...\n",
       "3   9     NaN      NaN           Apocalypse lighting. #Spokane #wildfires\n",
       "4  11     NaN      NaN      Typhoon Soudelor kills 28 in China and Taiwan"
      ]
     },
     "execution_count": 5,
     "metadata": {},
     "output_type": "execute_result"
    }
   ],
   "source": [
    "test_data.head()"
   ]
  },
  {
   "cell_type": "markdown",
   "id": "2ca4b8d1",
   "metadata": {
    "papermill": {
     "duration": 0.017838,
     "end_time": "2023-07-25T07:00:32.394594",
     "exception": false,
     "start_time": "2023-07-25T07:00:32.376756",
     "status": "completed"
    },
    "tags": []
   },
   "source": [
    " # 2.  Exploratory Data Analysis and Feature Engineering"
   ]
  },
  {
   "cell_type": "markdown",
   "id": "3c81cf4d",
   "metadata": {
    "papermill": {
     "duration": 0.017333,
     "end_time": "2023-07-25T07:00:32.429678",
     "exception": false,
     "start_time": "2023-07-25T07:00:32.412345",
     "status": "completed"
    },
    "tags": []
   },
   "source": [
    "> ##   2. 1 Training Dataset "
   ]
  },
  {
   "cell_type": "markdown",
   "id": "ca474f4b",
   "metadata": {
    "papermill": {
     "duration": 0.017155,
     "end_time": "2023-07-25T07:00:32.464540",
     "exception": false,
     "start_time": "2023-07-25T07:00:32.447385",
     "status": "completed"
    },
    "tags": []
   },
   "source": [
    ">> ## 2.1.1 Distribution of Target Variable"
   ]
  },
  {
   "cell_type": "code",
   "execution_count": 6,
   "id": "e7a186bf",
   "metadata": {
    "execution": {
     "iopub.execute_input": "2023-07-25T07:00:32.504998Z",
     "iopub.status.busy": "2023-07-25T07:00:32.504590Z",
     "iopub.status.idle": "2023-07-25T07:00:32.763531Z",
     "shell.execute_reply": "2023-07-25T07:00:32.761947Z"
    },
    "papermill": {
     "duration": 0.286234,
     "end_time": "2023-07-25T07:00:32.769415",
     "exception": false,
     "start_time": "2023-07-25T07:00:32.483181",
     "status": "completed"
    },
    "tags": []
   },
   "outputs": [
    {
     "data": {
      "image/png": "[encoded data removed]",
      "text/plain": [
       "<Figure size 400x400 with 1 Axes>"
      ]
     },
     "metadata": {},
     "output_type": "display_data"
    },
    {
     "name": "stdout",
     "output_type": "stream",
     "text": [
      "Not a disaster Count:  4342\n",
      "Disaster Count:  3271\n"
     ]
    }
   ],
   "source": [
    "#Calculating distribution of target variable\n",
    "\n",
    "disaster = train_data[train_data['target'] == 1]['target'].count()\n",
    "not_disaster = train_data[train_data['target']==0]['target'].count()\n",
    "labels = ['Not a Disaster', 'Disaster']\n",
    "sizes = [not_disaster, disaster]\n",
    "explode = (0,0.1)\n",
    "\n",
    "#creating a pie chart\n",
    "fig, axs = plt.subplots(figsize = (4,4))\n",
    "axs.pie(sizes, labels=labels, explode = explode, startangle = 90, shadow = True, autopct = '%1.1f%%')\n",
    "axs.axis('equal')\n",
    "plt.title('Distribution of target variables - Not a Disaster v Disaster')\n",
    "plt.show()\n",
    "\n",
    "print('Not a disaster Count: ', not_disaster)\n",
    "print('Disaster Count: ', disaster)"
   ]
  },
  {
   "cell_type": "markdown",
   "id": "b4e1eb31",
   "metadata": {
    "papermill": {
     "duration": 0.017958,
     "end_time": "2023-07-25T07:00:32.818888",
     "exception": false,
     "start_time": "2023-07-25T07:00:32.800930",
     "status": "completed"
    },
    "tags": []
   },
   "source": [
    "This shows a fairly balanced data so we can move forward"
   ]
  },
  {
   "cell_type": "markdown",
   "id": "c8982fd7",
   "metadata": {
    "papermill": {
     "duration": 0.017824,
     "end_time": "2023-07-25T07:00:32.854886",
     "exception": false,
     "start_time": "2023-07-25T07:00:32.837062",
     "status": "completed"
    },
    "tags": []
   },
   "source": [
    ">> ## 2.2.2 Adjusting Missing Values"
   ]
  },
  {
   "cell_type": "code",
   "execution_count": 7,
   "id": "6f04689f",
   "metadata": {
    "execution": {
     "iopub.execute_input": "2023-07-25T07:00:32.894341Z",
     "iopub.status.busy": "2023-07-25T07:00:32.893941Z",
     "iopub.status.idle": "2023-07-25T07:00:32.909507Z",
     "shell.execute_reply": "2023-07-25T07:00:32.908064Z"
    },
    "papermill": {
     "duration": 0.038419,
     "end_time": "2023-07-25T07:00:32.911877",
     "exception": false,
     "start_time": "2023-07-25T07:00:32.873458",
     "status": "completed"
    },
    "tags": []
   },
   "outputs": [
    {
     "name": "stdout",
     "output_type": "stream",
     "text": [
      "id             0\n",
      "keyword       61\n",
      "location    2533\n",
      "text           0\n",
      "target         0\n",
      "dtype: int64\n"
     ]
    }
   ],
   "source": [
    "missing_values = train_data.isnull().sum()\n",
    "print(missing_values)"
   ]
  },
  {
   "cell_type": "code",
   "execution_count": 8,
   "id": "909ff6dd",
   "metadata": {
    "execution": {
     "iopub.execute_input": "2023-07-25T07:00:32.950977Z",
     "iopub.status.busy": "2023-07-25T07:00:32.950540Z",
     "iopub.status.idle": "2023-07-25T07:00:32.967987Z",
     "shell.execute_reply": "2023-07-25T07:00:32.966628Z"
    },
    "papermill": {
     "duration": 0.040477,
     "end_time": "2023-07-25T07:00:32.970836",
     "exception": false,
     "start_time": "2023-07-25T07:00:32.930359",
     "status": "completed"
    },
    "tags": []
   },
   "outputs": [
    {
     "name": "stdout",
     "output_type": "stream",
     "text": [
      "Target variable distribution for missing 'location' values:\n",
      "0    1458\n",
      "1    1075\n",
      "Name: target, dtype: int64\n",
      "Target variable distribution for non-missing 'location' values:\n",
      "0    2884\n",
      "1    2196\n",
      "Name: target, dtype: int64\n"
     ]
    }
   ],
   "source": [
    "# Subset the data into two groups: tweets with missing location and tweets with non-missing location\n",
    "missing_location_tweets = train_data[train_data['location'].isnull()]\n",
    "non_missing_location_tweets = train_data[~train_data['location'].isnull()]\n",
    "\n",
    "# Compare the distribution of the 'target' variable for the two groups\n",
    "target_missing_location = missing_location_tweets['target'].value_counts()\n",
    "target_non_missing_location = non_missing_location_tweets['target'].value_counts()\n",
    "\n",
    "print(\"Target variable distribution for missing 'location' values:\")\n",
    "print(target_missing_location)\n",
    "\n",
    "print(\"Target variable distribution for non-missing 'location' values:\")\n",
    "print(target_non_missing_location)\n"
   ]
  },
  {
   "cell_type": "markdown",
   "id": "1f17c3b3",
   "metadata": {
    "papermill": {
     "duration": 0.020883,
     "end_time": "2023-07-25T07:00:33.010537",
     "exception": false,
     "start_time": "2023-07-25T07:00:32.989654",
     "status": "completed"
    },
    "tags": []
   },
   "source": [
    "From basic logic we can infer that 'location' doesn't affect the target variable so we can drop the column "
   ]
  },
  {
   "cell_type": "markdown",
   "id": "78f4d65f",
   "metadata": {
    "papermill": {
     "duration": 0.020343,
     "end_time": "2023-07-25T07:00:33.050022",
     "exception": false,
     "start_time": "2023-07-25T07:00:33.029679",
     "status": "completed"
    },
    "tags": []
   },
   "source": [
    ">> ## 2.2.3 Dropping Irrelevant Columns"
   ]
  },
  {
   "cell_type": "code",
   "execution_count": 9,
   "id": "4e04d892",
   "metadata": {
    "execution": {
     "iopub.execute_input": "2023-07-25T07:00:33.090145Z",
     "iopub.status.busy": "2023-07-25T07:00:33.089712Z",
     "iopub.status.idle": "2023-07-25T07:00:33.098275Z",
     "shell.execute_reply": "2023-07-25T07:00:33.097339Z"
    },
    "papermill": {
     "duration": 0.032151,
     "end_time": "2023-07-25T07:00:33.100708",
     "exception": false,
     "start_time": "2023-07-25T07:00:33.068557",
     "status": "completed"
    },
    "tags": []
   },
   "outputs": [],
   "source": [
    "train_data.drop(['location'], inplace= True, axis = 1)"
   ]
  },
  {
   "cell_type": "code",
   "execution_count": 10,
   "id": "3cc9376d",
   "metadata": {
    "execution": {
     "iopub.execute_input": "2023-07-25T07:00:33.139768Z",
     "iopub.status.busy": "2023-07-25T07:00:33.139311Z",
     "iopub.status.idle": "2023-07-25T07:00:33.151421Z",
     "shell.execute_reply": "2023-07-25T07:00:33.150180Z"
    },
    "papermill": {
     "duration": 0.034333,
     "end_time": "2023-07-25T07:00:33.153642",
     "exception": false,
     "start_time": "2023-07-25T07:00:33.119309",
     "status": "completed"
    },
    "tags": []
   },
   "outputs": [
    {
     "data": {
      "text/html": [
       "<div>\n",
       "<style scoped>\n",
       "    .dataframe tbody tr th:only-of-type {\n",
       "        vertical-align: middle;\n",
       "    }\n",
       "\n",
       "    .dataframe tbody tr th {\n",
       "        vertical-align: top;\n",
       "    }\n",
       "\n",
       "    .dataframe thead th {\n",
       "        text-align: right;\n",
       "    }\n",
       "</style>\n",
       "<table border=\"1\" class=\"dataframe\">\n",
       "  <thead>\n",
       "    <tr style=\"text-align: right;\">\n",
       "      <th></th>\n",
       "      <th>id</th>\n",
       "      <th>keyword</th>\n",
       "      <th>text</th>\n",
       "      <th>target</th>\n",
       "    </tr>\n",
       "  </thead>\n",
       "  <tbody>\n",
       "    <tr>\n",
       "      <th>0</th>\n",
       "      <td>1</td>\n",
       "      <td>NaN</td>\n",
       "      <td>Our Deeds are the Reason of this #earthquake M...</td>\n",
       "      <td>1</td>\n",
       "    </tr>\n",
       "    <tr>\n",
       "      <th>1</th>\n",
       "      <td>4</td>\n",
       "      <td>NaN</td>\n",
       "      <td>Forest fire near La Ronge Sask. Canada</td>\n",
       "      <td>1</td>\n",
       "    </tr>\n",
       "    <tr>\n",
       "      <th>2</th>\n",
       "      <td>5</td>\n",
       "      <td>NaN</td>\n",
       "      <td>All residents asked to 'shelter in place' are ...</td>\n",
       "      <td>1</td>\n",
       "    </tr>\n",
       "    <tr>\n",
       "      <th>3</th>\n",
       "      <td>6</td>\n",
       "      <td>NaN</td>\n",
       "      <td>13,000 people receive #wildfires evacuation or...</td>\n",
       "      <td>1</td>\n",
       "    </tr>\n",
       "    <tr>\n",
       "      <th>4</th>\n",
       "      <td>7</td>\n",
       "      <td>NaN</td>\n",
       "      <td>Just got sent this photo from Ruby #Alaska as ...</td>\n",
       "      <td>1</td>\n",
       "    </tr>\n",
       "  </tbody>\n",
       "</table>\n",
       "</div>"
      ],
      "text/plain": [
       "   id keyword                                               text  target\n",
       "0   1     NaN  Our Deeds are the Reason of this #earthquake M...       1\n",
       "1   4     NaN             Forest fire near La Ronge Sask. Canada       1\n",
       "2   5     NaN  All residents asked to 'shelter in place' are ...       1\n",
       "3   6     NaN  13,000 people receive #wildfires evacuation or...       1\n",
       "4   7     NaN  Just got sent this photo from Ruby #Alaska as ...       1"
      ]
     },
     "execution_count": 10,
     "metadata": {},
     "output_type": "execute_result"
    }
   ],
   "source": [
    "train_data.head()"
   ]
  },
  {
   "cell_type": "markdown",
   "id": "61e1f29c",
   "metadata": {
    "papermill": {
     "duration": 0.018497,
     "end_time": "2023-07-25T07:00:33.190911",
     "exception": false,
     "start_time": "2023-07-25T07:00:33.172414",
     "status": "completed"
    },
    "tags": []
   },
   "source": [
    ">> ## 2.2.4 Data Cleaning "
   ]
  },
  {
   "cell_type": "code",
   "execution_count": 11,
   "id": "7abfbd84",
   "metadata": {
    "execution": {
     "iopub.execute_input": "2023-07-25T07:00:33.258816Z",
     "iopub.status.busy": "2023-07-25T07:00:33.258327Z",
     "iopub.status.idle": "2023-07-25T07:00:33.276976Z",
     "shell.execute_reply": "2023-07-25T07:00:33.275647Z"
    },
    "papermill": {
     "duration": 0.043507,
     "end_time": "2023-07-25T07:00:33.280230",
     "exception": false,
     "start_time": "2023-07-25T07:00:33.236723",
     "status": "completed"
    },
    "tags": []
   },
   "outputs": [],
   "source": [
    "train_data['keyword'].fillna('',inplace=True)\n",
    "train_data['text'] = train_data['text'] + ' ' + train_data['keyword']\n",
    "train_data['text'] = train_data['text'].apply(lambda x: x.strip())\n",
    "train_data.drop(['keyword'],axis=1,inplace=True)"
   ]
  },
  {
   "cell_type": "code",
   "execution_count": 12,
   "id": "1807558b",
   "metadata": {
    "execution": {
     "iopub.execute_input": "2023-07-25T07:00:33.320535Z",
     "iopub.status.busy": "2023-07-25T07:00:33.319683Z",
     "iopub.status.idle": "2023-07-25T07:00:33.331875Z",
     "shell.execute_reply": "2023-07-25T07:00:33.330704Z"
    },
    "papermill": {
     "duration": 0.034919,
     "end_time": "2023-07-25T07:00:33.334410",
     "exception": false,
     "start_time": "2023-07-25T07:00:33.299491",
     "status": "completed"
    },
    "tags": []
   },
   "outputs": [
    {
     "data": {
      "text/html": [
       "<div>\n",
       "<style scoped>\n",
       "    .dataframe tbody tr th:only-of-type {\n",
       "        vertical-align: middle;\n",
       "    }\n",
       "\n",
       "    .dataframe tbody tr th {\n",
       "        vertical-align: top;\n",
       "    }\n",
       "\n",
       "    .dataframe thead th {\n",
       "        text-align: right;\n",
       "    }\n",
       "</style>\n",
       "<table border=\"1\" class=\"dataframe\">\n",
       "  <thead>\n",
       "    <tr style=\"text-align: right;\">\n",
       "      <th></th>\n",
       "      <th>id</th>\n",
       "      <th>text</th>\n",
       "      <th>target</th>\n",
       "    </tr>\n",
       "  </thead>\n",
       "  <tbody>\n",
       "    <tr>\n",
       "      <th>0</th>\n",
       "      <td>1</td>\n",
       "      <td>Our Deeds are the Reason of this #earthquake M...</td>\n",
       "      <td>1</td>\n",
       "    </tr>\n",
       "    <tr>\n",
       "      <th>1</th>\n",
       "      <td>4</td>\n",
       "      <td>Forest fire near La Ronge Sask. Canada</td>\n",
       "      <td>1</td>\n",
       "    </tr>\n",
       "    <tr>\n",
       "      <th>2</th>\n",
       "      <td>5</td>\n",
       "      <td>All residents asked to 'shelter in place' are ...</td>\n",
       "      <td>1</td>\n",
       "    </tr>\n",
       "    <tr>\n",
       "      <th>3</th>\n",
       "      <td>6</td>\n",
       "      <td>13,000 people receive #wildfires evacuation or...</td>\n",
       "      <td>1</td>\n",
       "    </tr>\n",
       "    <tr>\n",
       "      <th>4</th>\n",
       "      <td>7</td>\n",
       "      <td>Just got sent this photo from Ruby #Alaska as ...</td>\n",
       "      <td>1</td>\n",
       "    </tr>\n",
       "    <tr>\n",
       "      <th>5</th>\n",
       "      <td>8</td>\n",
       "      <td>#RockyFire Update =&gt; California Hwy. 20 closed...</td>\n",
       "      <td>1</td>\n",
       "    </tr>\n",
       "    <tr>\n",
       "      <th>6</th>\n",
       "      <td>10</td>\n",
       "      <td>#flood #disaster Heavy rain causes flash flood...</td>\n",
       "      <td>1</td>\n",
       "    </tr>\n",
       "    <tr>\n",
       "      <th>7</th>\n",
       "      <td>13</td>\n",
       "      <td>I'm on top of the hill and I can see a fire in...</td>\n",
       "      <td>1</td>\n",
       "    </tr>\n",
       "    <tr>\n",
       "      <th>8</th>\n",
       "      <td>14</td>\n",
       "      <td>There's an emergency evacuation happening now ...</td>\n",
       "      <td>1</td>\n",
       "    </tr>\n",
       "    <tr>\n",
       "      <th>9</th>\n",
       "      <td>15</td>\n",
       "      <td>I'm afraid that the tornado is coming to our a...</td>\n",
       "      <td>1</td>\n",
       "    </tr>\n",
       "  </tbody>\n",
       "</table>\n",
       "</div>"
      ],
      "text/plain": [
       "   id                                               text  target\n",
       "0   1  Our Deeds are the Reason of this #earthquake M...       1\n",
       "1   4             Forest fire near La Ronge Sask. Canada       1\n",
       "2   5  All residents asked to 'shelter in place' are ...       1\n",
       "3   6  13,000 people receive #wildfires evacuation or...       1\n",
       "4   7  Just got sent this photo from Ruby #Alaska as ...       1\n",
       "5   8  #RockyFire Update => California Hwy. 20 closed...       1\n",
       "6  10  #flood #disaster Heavy rain causes flash flood...       1\n",
       "7  13  I'm on top of the hill and I can see a fire in...       1\n",
       "8  14  There's an emergency evacuation happening now ...       1\n",
       "9  15  I'm afraid that the tornado is coming to our a...       1"
      ]
     },
     "execution_count": 12,
     "metadata": {},
     "output_type": "execute_result"
    }
   ],
   "source": [
    "train_data.head(10)"
   ]
  },
  {
   "cell_type": "code",
   "execution_count": 13,
   "id": "14ece380",
   "metadata": {
    "execution": {
     "iopub.execute_input": "2023-07-25T07:00:33.375027Z",
     "iopub.status.busy": "2023-07-25T07:00:33.373980Z",
     "iopub.status.idle": "2023-07-25T07:00:33.378496Z",
     "shell.execute_reply": "2023-07-25T07:00:33.377463Z"
    },
    "papermill": {
     "duration": 0.028107,
     "end_time": "2023-07-25T07:00:33.381436",
     "exception": false,
     "start_time": "2023-07-25T07:00:33.353329",
     "status": "completed"
    },
    "tags": []
   },
   "outputs": [],
   "source": [
    "#pd.set_option('display.max_colwidth', None)\n",
    "#print(train_data['text'])\n",
    "#pd.reset_option('display.max_colwidth')"
   ]
  },
  {
   "cell_type": "code",
   "execution_count": 14,
   "id": "e971c468",
   "metadata": {
    "execution": {
     "iopub.execute_input": "2023-07-25T07:00:33.422592Z",
     "iopub.status.busy": "2023-07-25T07:00:33.422148Z",
     "iopub.status.idle": "2023-07-25T07:00:33.525003Z",
     "shell.execute_reply": "2023-07-25T07:00:33.523479Z"
    },
    "papermill": {
     "duration": 0.12716,
     "end_time": "2023-07-25T07:00:33.528131",
     "exception": false,
     "start_time": "2023-07-25T07:00:33.400971",
     "status": "completed"
    },
    "tags": []
   },
   "outputs": [],
   "source": [
    "#Removing URL and special characters from the dataset\n",
    "\n",
    "import re\n",
    "\n",
    "def remove_url_and_special_char(text):\n",
    "    # Remove URLs\n",
    "    text = re.sub(r'http\\S+|www\\S+|https\\S+', '', text)\n",
    "\n",
    "    # Remove special characters and punctuation\n",
    "    text = re.sub(r'[^\\w\\s]', '', text)\n",
    "\n",
    "    return text\n",
    "\n",
    "train_data['text'] = train_data['text'].apply(remove_url_and_special_char)"
   ]
  },
  {
   "cell_type": "code",
   "execution_count": 15,
   "id": "ea255a5b",
   "metadata": {
    "execution": {
     "iopub.execute_input": "2023-07-25T07:00:33.569683Z",
     "iopub.status.busy": "2023-07-25T07:00:33.569261Z",
     "iopub.status.idle": "2023-07-25T07:00:33.574468Z",
     "shell.execute_reply": "2023-07-25T07:00:33.573355Z"
    },
    "papermill": {
     "duration": 0.028473,
     "end_time": "2023-07-25T07:00:33.576834",
     "exception": false,
     "start_time": "2023-07-25T07:00:33.548361",
     "status": "completed"
    },
    "tags": []
   },
   "outputs": [],
   "source": [
    "#pd.set_option('display.max_colwidth', None)\n",
    "#print(train_data['text'])\n",
    "#pd.reset_option('display.max_colwidth')"
   ]
  },
  {
   "cell_type": "code",
   "execution_count": 16,
   "id": "b3aea228",
   "metadata": {
    "execution": {
     "iopub.execute_input": "2023-07-25T07:00:33.617950Z",
     "iopub.status.busy": "2023-07-25T07:00:33.617215Z",
     "iopub.status.idle": "2023-07-25T07:00:33.637890Z",
     "shell.execute_reply": "2023-07-25T07:00:33.636405Z"
    },
    "papermill": {
     "duration": 0.04446,
     "end_time": "2023-07-25T07:00:33.640366",
     "exception": false,
     "start_time": "2023-07-25T07:00:33.595906",
     "status": "completed"
    },
    "tags": []
   },
   "outputs": [
    {
     "name": "stdout",
     "output_type": "stream",
     "text": [
      "Number of Records with duplicated text and target values:  798\n"
     ]
    },
    {
     "data": {
      "text/plain": [
       "(7613, 3)"
      ]
     },
     "execution_count": 16,
     "metadata": {},
     "output_type": "execute_result"
    }
   ],
   "source": [
    "duplicated_records = train_data[train_data.duplicated(['text', 'target'], keep = False)]\n",
    "print('Number of Records with duplicated text and target values: ', len(duplicated_records))\n",
    "duplicated_records.head(10)\n",
    "train_data.shape"
   ]
  },
  {
   "cell_type": "code",
   "execution_count": 17,
   "id": "7d7143c3",
   "metadata": {
    "execution": {
     "iopub.execute_input": "2023-07-25T07:00:33.681495Z",
     "iopub.status.busy": "2023-07-25T07:00:33.681052Z",
     "iopub.status.idle": "2023-07-25T07:00:33.691224Z",
     "shell.execute_reply": "2023-07-25T07:00:33.690046Z"
    },
    "papermill": {
     "duration": 0.033867,
     "end_time": "2023-07-25T07:00:33.694119",
     "exception": false,
     "start_time": "2023-07-25T07:00:33.660252",
     "status": "completed"
    },
    "tags": []
   },
   "outputs": [],
   "source": [
    "#Removing the records with duplicated text and values\n",
    "train_data.drop_duplicates(['text', 'target'], inplace=True)"
   ]
  },
  {
   "cell_type": "code",
   "execution_count": 18,
   "id": "43ad7abd",
   "metadata": {
    "execution": {
     "iopub.execute_input": "2023-07-25T07:00:33.735282Z",
     "iopub.status.busy": "2023-07-25T07:00:33.734853Z",
     "iopub.status.idle": "2023-07-25T07:00:33.742701Z",
     "shell.execute_reply": "2023-07-25T07:00:33.741581Z"
    },
    "papermill": {
     "duration": 0.031764,
     "end_time": "2023-07-25T07:00:33.745743",
     "exception": false,
     "start_time": "2023-07-25T07:00:33.713979",
     "status": "completed"
    },
    "tags": []
   },
   "outputs": [
    {
     "data": {
      "text/plain": [
       "(7065, 3)"
      ]
     },
     "execution_count": 18,
     "metadata": {},
     "output_type": "execute_result"
    }
   ],
   "source": [
    "train_data.shape"
   ]
  },
  {
   "cell_type": "code",
   "execution_count": 19,
   "id": "f52ffcfc",
   "metadata": {
    "execution": {
     "iopub.execute_input": "2023-07-25T07:00:33.786851Z",
     "iopub.status.busy": "2023-07-25T07:00:33.786439Z",
     "iopub.status.idle": "2023-07-25T07:00:33.803818Z",
     "shell.execute_reply": "2023-07-25T07:00:33.802618Z"
    },
    "papermill": {
     "duration": 0.040786,
     "end_time": "2023-07-25T07:00:33.806326",
     "exception": false,
     "start_time": "2023-07-25T07:00:33.765540",
     "status": "completed"
    },
    "tags": []
   },
   "outputs": [
    {
     "name": "stdout",
     "output_type": "stream",
     "text": [
      " Number of records that are contradictory :  132\n"
     ]
    },
    {
     "data": {
      "text/html": [
       "<div>\n",
       "<style scoped>\n",
       "    .dataframe tbody tr th:only-of-type {\n",
       "        vertical-align: middle;\n",
       "    }\n",
       "\n",
       "    .dataframe tbody tr th {\n",
       "        vertical-align: top;\n",
       "    }\n",
       "\n",
       "    .dataframe thead th {\n",
       "        text-align: right;\n",
       "    }\n",
       "</style>\n",
       "<table border=\"1\" class=\"dataframe\">\n",
       "  <thead>\n",
       "    <tr style=\"text-align: right;\">\n",
       "      <th></th>\n",
       "      <th>id</th>\n",
       "      <th>text</th>\n",
       "      <th>target</th>\n",
       "    </tr>\n",
       "  </thead>\n",
       "  <tbody>\n",
       "    <tr>\n",
       "      <th>246</th>\n",
       "      <td>349</td>\n",
       "      <td>US National Park Services Tonto National Fores...</td>\n",
       "      <td>0</td>\n",
       "    </tr>\n",
       "    <tr>\n",
       "      <th>248</th>\n",
       "      <td>353</td>\n",
       "      <td>World Annihilation vs Self Transformation  Ali...</td>\n",
       "      <td>0</td>\n",
       "    </tr>\n",
       "    <tr>\n",
       "      <th>251</th>\n",
       "      <td>356</td>\n",
       "      <td>US National Park Services Tonto National Fores...</td>\n",
       "      <td>1</td>\n",
       "    </tr>\n",
       "    <tr>\n",
       "      <th>269</th>\n",
       "      <td>390</td>\n",
       "      <td>World Annihilation vs Self Transformation  Ali...</td>\n",
       "      <td>1</td>\n",
       "    </tr>\n",
       "    <tr>\n",
       "      <th>547</th>\n",
       "      <td>796</td>\n",
       "      <td>STAR WARS POWER OF THE JEDI COLLECTION 1 BATTL...</td>\n",
       "      <td>1</td>\n",
       "    </tr>\n",
       "    <tr>\n",
       "      <th>569</th>\n",
       "      <td>822</td>\n",
       "      <td>STAR WARS POWER OF THE JEDI COLLECTION 1 BATTL...</td>\n",
       "      <td>0</td>\n",
       "    </tr>\n",
       "    <tr>\n",
       "      <th>576</th>\n",
       "      <td>834</td>\n",
       "      <td>FedEx no longer to transport bioterror germs i...</td>\n",
       "      <td>1</td>\n",
       "    </tr>\n",
       "    <tr>\n",
       "      <th>584</th>\n",
       "      <td>843</td>\n",
       "      <td>FedEx no longer to transport bioterror germs i...</td>\n",
       "      <td>0</td>\n",
       "    </tr>\n",
       "    <tr>\n",
       "      <th>587</th>\n",
       "      <td>848</td>\n",
       "      <td>world FedEx no longer to transport bioterror g...</td>\n",
       "      <td>1</td>\n",
       "    </tr>\n",
       "    <tr>\n",
       "      <th>591</th>\n",
       "      <td>853</td>\n",
       "      <td>world FedEx no longer to transport bioterror g...</td>\n",
       "      <td>0</td>\n",
       "    </tr>\n",
       "  </tbody>\n",
       "</table>\n",
       "</div>"
      ],
      "text/plain": [
       "      id                                               text  target\n",
       "246  349  US National Park Services Tonto National Fores...       0\n",
       "248  353  World Annihilation vs Self Transformation  Ali...       0\n",
       "251  356  US National Park Services Tonto National Fores...       1\n",
       "269  390  World Annihilation vs Self Transformation  Ali...       1\n",
       "547  796  STAR WARS POWER OF THE JEDI COLLECTION 1 BATTL...       1\n",
       "569  822  STAR WARS POWER OF THE JEDI COLLECTION 1 BATTL...       0\n",
       "576  834  FedEx no longer to transport bioterror germs i...       1\n",
       "584  843  FedEx no longer to transport bioterror germs i...       0\n",
       "587  848  world FedEx no longer to transport bioterror g...       1\n",
       "591  853  world FedEx no longer to transport bioterror g...       0"
      ]
     },
     "execution_count": 19,
     "metadata": {},
     "output_type": "execute_result"
    }
   ],
   "source": [
    "# Now finding Contradicting records having the same text but different target value from the dataset and randomly choosing \n",
    "# one record to be kept in the dataset and removing the contradictory record and finally resetting the indices\n",
    "\n",
    "contradicting_records = train_data[train_data.duplicated(['text'], keep = False)]\n",
    "print(' Number of records that are contradictory : ', len(contradicting_records))\n",
    "contradicting_records.head(10)"
   ]
  },
  {
   "cell_type": "code",
   "execution_count": 20,
   "id": "d1d31037",
   "metadata": {
    "execution": {
     "iopub.execute_input": "2023-07-25T07:00:33.848568Z",
     "iopub.status.busy": "2023-07-25T07:00:33.848143Z",
     "iopub.status.idle": "2023-07-25T07:00:33.860279Z",
     "shell.execute_reply": "2023-07-25T07:00:33.858990Z"
    },
    "papermill": {
     "duration": 0.037601,
     "end_time": "2023-07-25T07:00:33.863626",
     "exception": false,
     "start_time": "2023-07-25T07:00:33.826025",
     "status": "completed"
    },
    "tags": []
   },
   "outputs": [],
   "source": [
    "records_to_remove = contradicting_records.sample(frac=1).groupby('text').head(1)\n",
    "train_data.drop(records_to_remove.index, inplace=True)\n",
    "train_data.reset_index(drop=True, inplace=True)"
   ]
  },
  {
   "cell_type": "code",
   "execution_count": 21,
   "id": "e35ff907",
   "metadata": {
    "execution": {
     "iopub.execute_input": "2023-07-25T07:00:33.907203Z",
     "iopub.status.busy": "2023-07-25T07:00:33.906385Z",
     "iopub.status.idle": "2023-07-25T07:00:33.913125Z",
     "shell.execute_reply": "2023-07-25T07:00:33.912162Z"
    },
    "papermill": {
     "duration": 0.031143,
     "end_time": "2023-07-25T07:00:33.915636",
     "exception": false,
     "start_time": "2023-07-25T07:00:33.884493",
     "status": "completed"
    },
    "tags": []
   },
   "outputs": [
    {
     "data": {
      "text/plain": [
       "(6999, 3)"
      ]
     },
     "execution_count": 21,
     "metadata": {},
     "output_type": "execute_result"
    }
   ],
   "source": [
    "train_data.shape"
   ]
  },
  {
   "cell_type": "markdown",
   "id": "7f6ae8d2",
   "metadata": {
    "papermill": {
     "duration": 0.019552,
     "end_time": "2023-07-25T07:00:33.955219",
     "exception": false,
     "start_time": "2023-07-25T07:00:33.935667",
     "status": "completed"
    },
    "tags": []
   },
   "source": [
    "> # 2.2 Testing Dataset"
   ]
  },
  {
   "cell_type": "markdown",
   "id": "6a60840f",
   "metadata": {
    "papermill": {
     "duration": 0.020039,
     "end_time": "2023-07-25T07:00:33.995015",
     "exception": false,
     "start_time": "2023-07-25T07:00:33.974976",
     "status": "completed"
    },
    "tags": []
   },
   "source": [
    ">> ## 2.2.1 Data Cleaning"
   ]
  },
  {
   "cell_type": "code",
   "execution_count": 22,
   "id": "f6424133",
   "metadata": {
    "execution": {
     "iopub.execute_input": "2023-07-25T07:00:34.041369Z",
     "iopub.status.busy": "2023-07-25T07:00:34.040882Z",
     "iopub.status.idle": "2023-07-25T07:00:34.056266Z",
     "shell.execute_reply": "2023-07-25T07:00:34.054861Z"
    },
    "papermill": {
     "duration": 0.040485,
     "end_time": "2023-07-25T07:00:34.059190",
     "exception": false,
     "start_time": "2023-07-25T07:00:34.018705",
     "status": "completed"
    },
    "tags": []
   },
   "outputs": [],
   "source": [
    "test_data['keyword'].fillna('',inplace=True)\n",
    "test_data['text'] = test_data['text'] + ' ' + test_data['keyword']\n",
    "test_data['text'] = test_data['text'].apply(lambda x: x.strip())\n",
    "test_data.drop(['keyword'],axis=1,inplace=True)\n",
    "test_data.drop(['location'],axis=1,inplace=True)\n"
   ]
  },
  {
   "cell_type": "code",
   "execution_count": 23,
   "id": "cf3c785d",
   "metadata": {
    "execution": {
     "iopub.execute_input": "2023-07-25T07:00:34.101294Z",
     "iopub.status.busy": "2023-07-25T07:00:34.100824Z",
     "iopub.status.idle": "2023-07-25T07:00:34.112061Z",
     "shell.execute_reply": "2023-07-25T07:00:34.110795Z"
    },
    "papermill": {
     "duration": 0.035363,
     "end_time": "2023-07-25T07:00:34.114585",
     "exception": false,
     "start_time": "2023-07-25T07:00:34.079222",
     "status": "completed"
    },
    "tags": []
   },
   "outputs": [
    {
     "data": {
      "text/html": [
       "<div>\n",
       "<style scoped>\n",
       "    .dataframe tbody tr th:only-of-type {\n",
       "        vertical-align: middle;\n",
       "    }\n",
       "\n",
       "    .dataframe tbody tr th {\n",
       "        vertical-align: top;\n",
       "    }\n",
       "\n",
       "    .dataframe thead th {\n",
       "        text-align: right;\n",
       "    }\n",
       "</style>\n",
       "<table border=\"1\" class=\"dataframe\">\n",
       "  <thead>\n",
       "    <tr style=\"text-align: right;\">\n",
       "      <th></th>\n",
       "      <th>id</th>\n",
       "      <th>text</th>\n",
       "    </tr>\n",
       "  </thead>\n",
       "  <tbody>\n",
       "    <tr>\n",
       "      <th>0</th>\n",
       "      <td>0</td>\n",
       "      <td>Just happened a terrible car crash</td>\n",
       "    </tr>\n",
       "    <tr>\n",
       "      <th>1</th>\n",
       "      <td>2</td>\n",
       "      <td>Heard about #earthquake is different cities, s...</td>\n",
       "    </tr>\n",
       "    <tr>\n",
       "      <th>2</th>\n",
       "      <td>3</td>\n",
       "      <td>there is a forest fire at spot pond, geese are...</td>\n",
       "    </tr>\n",
       "    <tr>\n",
       "      <th>3</th>\n",
       "      <td>9</td>\n",
       "      <td>Apocalypse lighting. #Spokane #wildfires</td>\n",
       "    </tr>\n",
       "    <tr>\n",
       "      <th>4</th>\n",
       "      <td>11</td>\n",
       "      <td>Typhoon Soudelor kills 28 in China and Taiwan</td>\n",
       "    </tr>\n",
       "  </tbody>\n",
       "</table>\n",
       "</div>"
      ],
      "text/plain": [
       "   id                                               text\n",
       "0   0                 Just happened a terrible car crash\n",
       "1   2  Heard about #earthquake is different cities, s...\n",
       "2   3  there is a forest fire at spot pond, geese are...\n",
       "3   9           Apocalypse lighting. #Spokane #wildfires\n",
       "4  11      Typhoon Soudelor kills 28 in China and Taiwan"
      ]
     },
     "execution_count": 23,
     "metadata": {},
     "output_type": "execute_result"
    }
   ],
   "source": [
    "test_data.head()"
   ]
  },
  {
   "cell_type": "code",
   "execution_count": 24,
   "id": "5cba0d10",
   "metadata": {
    "execution": {
     "iopub.execute_input": "2023-07-25T07:00:34.157598Z",
     "iopub.status.busy": "2023-07-25T07:00:34.157150Z",
     "iopub.status.idle": "2023-07-25T07:00:34.205197Z",
     "shell.execute_reply": "2023-07-25T07:00:34.203594Z"
    },
    "papermill": {
     "duration": 0.072586,
     "end_time": "2023-07-25T07:00:34.208021",
     "exception": false,
     "start_time": "2023-07-25T07:00:34.135435",
     "status": "completed"
    },
    "tags": []
   },
   "outputs": [],
   "source": [
    "test_data['text'] = test_data['text'].apply(remove_url_and_special_char)"
   ]
  },
  {
   "cell_type": "markdown",
   "id": "77787871",
   "metadata": {
    "papermill": {
     "duration": 0.019765,
     "end_time": "2023-07-25T07:00:34.248087",
     "exception": false,
     "start_time": "2023-07-25T07:00:34.228322",
     "status": "completed"
    },
    "tags": []
   },
   "source": [
    "# 3. Tokenization"
   ]
  },
  {
   "cell_type": "code",
   "execution_count": 25,
   "id": "75d54b29",
   "metadata": {
    "execution": {
     "iopub.execute_input": "2023-07-25T07:00:34.290593Z",
     "iopub.status.busy": "2023-07-25T07:00:34.290145Z",
     "iopub.status.idle": "2023-07-25T07:01:05.105694Z",
     "shell.execute_reply": "2023-07-25T07:01:05.104198Z"
    },
    "papermill": {
     "duration": 30.840638,
     "end_time": "2023-07-25T07:01:05.108948",
     "exception": false,
     "start_time": "2023-07-25T07:00:34.268310",
     "status": "completed"
    },
    "tags": []
   },
   "outputs": [],
   "source": [
    "import nltk\n",
    "from nltk.tokenize import word_tokenize\n",
    "from nltk.corpus import stopwords\n",
    "\n",
    "def tokenize(text):\n",
    "    tokens = word_tokenize(text)\n",
    "    \n",
    "    # Remove stopwords and filter out specific word types\n",
    "    stop_words = set(stopwords.words('english'))\n",
    "    filtered_tokens = [token for token in tokens if token.lower() not in stop_words and not token.isdigit() and token.lower() not in ['a', 'an', 'the'] and nltk.pos_tag([token])[0][1] != 'PRP']\n",
    "    \n",
    "    return filtered_tokens\n",
    "\n",
    "train_data['tokens'] = train_data['text'].apply(tokenize)\n",
    "\n",
    "test_data['tokens'] = test_data['text'].apply(tokenize)\n"
   ]
  },
  {
   "cell_type": "code",
   "execution_count": 26,
   "id": "a4f68d43",
   "metadata": {
    "execution": {
     "iopub.execute_input": "2023-07-25T07:01:05.152442Z",
     "iopub.status.busy": "2023-07-25T07:01:05.151947Z",
     "iopub.status.idle": "2023-07-25T07:01:05.167019Z",
     "shell.execute_reply": "2023-07-25T07:01:05.166072Z"
    },
    "papermill": {
     "duration": 0.040036,
     "end_time": "2023-07-25T07:01:05.169398",
     "exception": false,
     "start_time": "2023-07-25T07:01:05.129362",
     "status": "completed"
    },
    "tags": []
   },
   "outputs": [
    {
     "data": {
      "text/html": [
       "<div>\n",
       "<style scoped>\n",
       "    .dataframe tbody tr th:only-of-type {\n",
       "        vertical-align: middle;\n",
       "    }\n",
       "\n",
       "    .dataframe tbody tr th {\n",
       "        vertical-align: top;\n",
       "    }\n",
       "\n",
       "    .dataframe thead th {\n",
       "        text-align: right;\n",
       "    }\n",
       "</style>\n",
       "<table border=\"1\" class=\"dataframe\">\n",
       "  <thead>\n",
       "    <tr style=\"text-align: right;\">\n",
       "      <th></th>\n",
       "      <th>id</th>\n",
       "      <th>text</th>\n",
       "      <th>tokens</th>\n",
       "    </tr>\n",
       "  </thead>\n",
       "  <tbody>\n",
       "    <tr>\n",
       "      <th>0</th>\n",
       "      <td>0</td>\n",
       "      <td>Just happened a terrible car crash</td>\n",
       "      <td>[happened, terrible, car, crash]</td>\n",
       "    </tr>\n",
       "    <tr>\n",
       "      <th>1</th>\n",
       "      <td>2</td>\n",
       "      <td>Heard about earthquake is different cities sta...</td>\n",
       "      <td>[Heard, earthquake, different, cities, stay, s...</td>\n",
       "    </tr>\n",
       "    <tr>\n",
       "      <th>2</th>\n",
       "      <td>3</td>\n",
       "      <td>there is a forest fire at spot pond geese are ...</td>\n",
       "      <td>[forest, fire, spot, pond, geese, fleeing, acr...</td>\n",
       "    </tr>\n",
       "    <tr>\n",
       "      <th>3</th>\n",
       "      <td>9</td>\n",
       "      <td>Apocalypse lighting Spokane wildfires</td>\n",
       "      <td>[Apocalypse, lighting, Spokane, wildfires]</td>\n",
       "    </tr>\n",
       "    <tr>\n",
       "      <th>4</th>\n",
       "      <td>11</td>\n",
       "      <td>Typhoon Soudelor kills 28 in China and Taiwan</td>\n",
       "      <td>[Typhoon, Soudelor, kills, China, Taiwan]</td>\n",
       "    </tr>\n",
       "  </tbody>\n",
       "</table>\n",
       "</div>"
      ],
      "text/plain": [
       "   id                                               text  \\\n",
       "0   0                 Just happened a terrible car crash   \n",
       "1   2  Heard about earthquake is different cities sta...   \n",
       "2   3  there is a forest fire at spot pond geese are ...   \n",
       "3   9              Apocalypse lighting Spokane wildfires   \n",
       "4  11      Typhoon Soudelor kills 28 in China and Taiwan   \n",
       "\n",
       "                                              tokens  \n",
       "0                   [happened, terrible, car, crash]  \n",
       "1  [Heard, earthquake, different, cities, stay, s...  \n",
       "2  [forest, fire, spot, pond, geese, fleeing, acr...  \n",
       "3         [Apocalypse, lighting, Spokane, wildfires]  \n",
       "4          [Typhoon, Soudelor, kills, China, Taiwan]  "
      ]
     },
     "execution_count": 26,
     "metadata": {},
     "output_type": "execute_result"
    }
   ],
   "source": [
    "test_data.head()"
   ]
  },
  {
   "cell_type": "code",
   "execution_count": 27,
   "id": "1c8f740f",
   "metadata": {
    "execution": {
     "iopub.execute_input": "2023-07-25T07:01:05.212699Z",
     "iopub.status.busy": "2023-07-25T07:01:05.211768Z",
     "iopub.status.idle": "2023-07-25T07:01:05.231170Z",
     "shell.execute_reply": "2023-07-25T07:01:05.229768Z"
    },
    "papermill": {
     "duration": 0.044153,
     "end_time": "2023-07-25T07:01:05.234031",
     "exception": false,
     "start_time": "2023-07-25T07:01:05.189878",
     "status": "completed"
    },
    "tags": []
   },
   "outputs": [
    {
     "data": {
      "text/html": [
       "<div>\n",
       "<style scoped>\n",
       "    .dataframe tbody tr th:only-of-type {\n",
       "        vertical-align: middle;\n",
       "    }\n",
       "\n",
       "    .dataframe tbody tr th {\n",
       "        vertical-align: top;\n",
       "    }\n",
       "\n",
       "    .dataframe thead th {\n",
       "        text-align: right;\n",
       "    }\n",
       "</style>\n",
       "<table border=\"1\" class=\"dataframe\">\n",
       "  <thead>\n",
       "    <tr style=\"text-align: right;\">\n",
       "      <th></th>\n",
       "      <th>id</th>\n",
       "      <th>text</th>\n",
       "      <th>target</th>\n",
       "      <th>tokens</th>\n",
       "    </tr>\n",
       "  </thead>\n",
       "  <tbody>\n",
       "    <tr>\n",
       "      <th>0</th>\n",
       "      <td>1</td>\n",
       "      <td>Our Deeds are the Reason of this earthquake Ma...</td>\n",
       "      <td>1</td>\n",
       "      <td>[Deeds, Reason, earthquake, May, ALLAH, Forgive]</td>\n",
       "    </tr>\n",
       "    <tr>\n",
       "      <th>1</th>\n",
       "      <td>4</td>\n",
       "      <td>Forest fire near La Ronge Sask Canada</td>\n",
       "      <td>1</td>\n",
       "      <td>[Forest, fire, near, La, Ronge, Sask, Canada]</td>\n",
       "    </tr>\n",
       "    <tr>\n",
       "      <th>2</th>\n",
       "      <td>5</td>\n",
       "      <td>All residents asked to shelter in place are be...</td>\n",
       "      <td>1</td>\n",
       "      <td>[residents, asked, shelter, place, notified, o...</td>\n",
       "    </tr>\n",
       "    <tr>\n",
       "      <th>3</th>\n",
       "      <td>6</td>\n",
       "      <td>13000 people receive wildfires evacuation orde...</td>\n",
       "      <td>1</td>\n",
       "      <td>[people, receive, wildfires, evacuation, order...</td>\n",
       "    </tr>\n",
       "    <tr>\n",
       "      <th>4</th>\n",
       "      <td>7</td>\n",
       "      <td>Just got sent this photo from Ruby Alaska as s...</td>\n",
       "      <td>1</td>\n",
       "      <td>[got, sent, photo, Ruby, Alaska, smoke, wildfi...</td>\n",
       "    </tr>\n",
       "    <tr>\n",
       "      <th>5</th>\n",
       "      <td>8</td>\n",
       "      <td>RockyFire Update  California Hwy 20 closed in ...</td>\n",
       "      <td>1</td>\n",
       "      <td>[RockyFire, Update, California, Hwy, closed, d...</td>\n",
       "    </tr>\n",
       "    <tr>\n",
       "      <th>6</th>\n",
       "      <td>10</td>\n",
       "      <td>flood disaster Heavy rain causes flash floodin...</td>\n",
       "      <td>1</td>\n",
       "      <td>[flood, disaster, Heavy, rain, causes, flash, ...</td>\n",
       "    </tr>\n",
       "    <tr>\n",
       "      <th>7</th>\n",
       "      <td>13</td>\n",
       "      <td>Im on top of the hill and I can see a fire in ...</td>\n",
       "      <td>1</td>\n",
       "      <td>[Im, top, hill, see, fire, woods]</td>\n",
       "    </tr>\n",
       "    <tr>\n",
       "      <th>8</th>\n",
       "      <td>14</td>\n",
       "      <td>Theres an emergency evacuation happening now i...</td>\n",
       "      <td>1</td>\n",
       "      <td>[Theres, emergency, evacuation, happening, bui...</td>\n",
       "    </tr>\n",
       "    <tr>\n",
       "      <th>9</th>\n",
       "      <td>15</td>\n",
       "      <td>Im afraid that the tornado is coming to our area</td>\n",
       "      <td>1</td>\n",
       "      <td>[Im, afraid, tornado, coming, area]</td>\n",
       "    </tr>\n",
       "  </tbody>\n",
       "</table>\n",
       "</div>"
      ],
      "text/plain": [
       "   id                                               text  target  \\\n",
       "0   1  Our Deeds are the Reason of this earthquake Ma...       1   \n",
       "1   4              Forest fire near La Ronge Sask Canada       1   \n",
       "2   5  All residents asked to shelter in place are be...       1   \n",
       "3   6  13000 people receive wildfires evacuation orde...       1   \n",
       "4   7  Just got sent this photo from Ruby Alaska as s...       1   \n",
       "5   8  RockyFire Update  California Hwy 20 closed in ...       1   \n",
       "6  10  flood disaster Heavy rain causes flash floodin...       1   \n",
       "7  13  Im on top of the hill and I can see a fire in ...       1   \n",
       "8  14  Theres an emergency evacuation happening now i...       1   \n",
       "9  15   Im afraid that the tornado is coming to our area       1   \n",
       "\n",
       "                                              tokens  \n",
       "0   [Deeds, Reason, earthquake, May, ALLAH, Forgive]  \n",
       "1      [Forest, fire, near, La, Ronge, Sask, Canada]  \n",
       "2  [residents, asked, shelter, place, notified, o...  \n",
       "3  [people, receive, wildfires, evacuation, order...  \n",
       "4  [got, sent, photo, Ruby, Alaska, smoke, wildfi...  \n",
       "5  [RockyFire, Update, California, Hwy, closed, d...  \n",
       "6  [flood, disaster, Heavy, rain, causes, flash, ...  \n",
       "7                  [Im, top, hill, see, fire, woods]  \n",
       "8  [Theres, emergency, evacuation, happening, bui...  \n",
       "9                [Im, afraid, tornado, coming, area]  "
      ]
     },
     "execution_count": 27,
     "metadata": {},
     "output_type": "execute_result"
    }
   ],
   "source": [
    "train_data.head(10)"
   ]
  },
  {
   "cell_type": "code",
   "execution_count": 28,
   "id": "d7bb3939",
   "metadata": {
    "execution": {
     "iopub.execute_input": "2023-07-25T07:01:05.281270Z",
     "iopub.status.busy": "2023-07-25T07:01:05.280798Z",
     "iopub.status.idle": "2023-07-25T07:01:05.306185Z",
     "shell.execute_reply": "2023-07-25T07:01:05.304664Z"
    },
    "papermill": {
     "duration": 0.052454,
     "end_time": "2023-07-25T07:01:05.309542",
     "exception": false,
     "start_time": "2023-07-25T07:01:05.257088",
     "status": "completed"
    },
    "tags": []
   },
   "outputs": [
    {
     "data": {
      "text/html": [
       "<div>\n",
       "<style scoped>\n",
       "    .dataframe tbody tr th:only-of-type {\n",
       "        vertical-align: middle;\n",
       "    }\n",
       "\n",
       "    .dataframe tbody tr th {\n",
       "        vertical-align: top;\n",
       "    }\n",
       "\n",
       "    .dataframe thead th {\n",
       "        text-align: right;\n",
       "    }\n",
       "</style>\n",
       "<table border=\"1\" class=\"dataframe\">\n",
       "  <thead>\n",
       "    <tr style=\"text-align: right;\">\n",
       "      <th></th>\n",
       "      <th>id</th>\n",
       "      <th>text</th>\n",
       "      <th>tokens</th>\n",
       "    </tr>\n",
       "  </thead>\n",
       "  <tbody>\n",
       "    <tr>\n",
       "      <th>0</th>\n",
       "      <td>1</td>\n",
       "      <td>Our Deeds are the Reason of this earthquake Ma...</td>\n",
       "      <td>[Deeds, Reason, earthquake, May, ALLAH, Forgive]</td>\n",
       "    </tr>\n",
       "    <tr>\n",
       "      <th>1</th>\n",
       "      <td>4</td>\n",
       "      <td>Forest fire near La Ronge Sask Canada</td>\n",
       "      <td>[Forest, fire, near, La, Ronge, Sask, Canada]</td>\n",
       "    </tr>\n",
       "    <tr>\n",
       "      <th>2</th>\n",
       "      <td>5</td>\n",
       "      <td>All residents asked to shelter in place are be...</td>\n",
       "      <td>[residents, asked, shelter, place, notified, o...</td>\n",
       "    </tr>\n",
       "    <tr>\n",
       "      <th>3</th>\n",
       "      <td>6</td>\n",
       "      <td>13000 people receive wildfires evacuation orde...</td>\n",
       "      <td>[people, receive, wildfires, evacuation, order...</td>\n",
       "    </tr>\n",
       "    <tr>\n",
       "      <th>4</th>\n",
       "      <td>7</td>\n",
       "      <td>Just got sent this photo from Ruby Alaska as s...</td>\n",
       "      <td>[got, sent, photo, Ruby, Alaska, smoke, wildfi...</td>\n",
       "    </tr>\n",
       "  </tbody>\n",
       "</table>\n",
       "</div>"
      ],
      "text/plain": [
       "   id                                               text  \\\n",
       "0   1  Our Deeds are the Reason of this earthquake Ma...   \n",
       "1   4              Forest fire near La Ronge Sask Canada   \n",
       "2   5  All residents asked to shelter in place are be...   \n",
       "3   6  13000 people receive wildfires evacuation orde...   \n",
       "4   7  Just got sent this photo from Ruby Alaska as s...   \n",
       "\n",
       "                                              tokens  \n",
       "0   [Deeds, Reason, earthquake, May, ALLAH, Forgive]  \n",
       "1      [Forest, fire, near, La, Ronge, Sask, Canada]  \n",
       "2  [residents, asked, shelter, place, notified, o...  \n",
       "3  [people, receive, wildfires, evacuation, order...  \n",
       "4  [got, sent, photo, Ruby, Alaska, smoke, wildfi...  "
      ]
     },
     "execution_count": 28,
     "metadata": {},
     "output_type": "execute_result"
    }
   ],
   "source": [
    "data = pd.concat([train_data, test_data], axis = 0, sort = False)\n",
    "data.drop(['target'],axis=1,inplace=True)\n",
    "data.head()"
   ]
  },
  {
   "cell_type": "code",
   "execution_count": 29,
   "id": "28627351",
   "metadata": {
    "execution": {
     "iopub.execute_input": "2023-07-25T07:01:05.355334Z",
     "iopub.status.busy": "2023-07-25T07:01:05.354918Z",
     "iopub.status.idle": "2023-07-25T07:01:05.362667Z",
     "shell.execute_reply": "2023-07-25T07:01:05.361379Z"
    },
    "papermill": {
     "duration": 0.033114,
     "end_time": "2023-07-25T07:01:05.365337",
     "exception": false,
     "start_time": "2023-07-25T07:01:05.332223",
     "status": "completed"
    },
    "tags": []
   },
   "outputs": [
    {
     "data": {
      "text/plain": [
       "(10262, 3)"
      ]
     },
     "execution_count": 29,
     "metadata": {},
     "output_type": "execute_result"
    }
   ],
   "source": [
    "data.shape"
   ]
  },
  {
   "cell_type": "markdown",
   "id": "d9a98312",
   "metadata": {
    "papermill": {
     "duration": 0.021232,
     "end_time": "2023-07-25T07:01:05.409569",
     "exception": false,
     "start_time": "2023-07-25T07:01:05.388337",
     "status": "completed"
    },
    "tags": []
   },
   "source": [
    "# 4. Glove Vector Embedding "
   ]
  },
  {
   "cell_type": "code",
   "execution_count": 30,
   "id": "26620028",
   "metadata": {
    "execution": {
     "iopub.execute_input": "2023-07-25T07:01:05.455208Z",
     "iopub.status.busy": "2023-07-25T07:01:05.454720Z",
     "iopub.status.idle": "2023-07-25T07:02:06.185097Z",
     "shell.execute_reply": "2023-07-25T07:02:06.183938Z"
    },
    "papermill": {
     "duration": 60.756655,
     "end_time": "2023-07-25T07:02:06.188175",
     "exception": false,
     "start_time": "2023-07-25T07:01:05.431520",
     "status": "completed"
    },
    "tags": []
   },
   "outputs": [],
   "source": [
    "# Glove vector embeddings:\n",
    "\n",
    "glove_vec_file = open('/kaggle/input/glove6b/glove.6B.300d.txt')\n",
    "embeddings = {}\n",
    "for line in glove_vec_file:\n",
    "    value = line.split()\n",
    "    word = value[0]\n",
    "    embedding = np.array(value[1:])\n",
    "    embeddings[word] = embedding\n",
    "glove_vec_file.close()"
   ]
  },
  {
   "cell_type": "code",
   "execution_count": 31,
   "id": "6850cc37",
   "metadata": {
    "execution": {
     "iopub.execute_input": "2023-07-25T07:02:06.234876Z",
     "iopub.status.busy": "2023-07-25T07:02:06.234420Z",
     "iopub.status.idle": "2023-07-25T07:02:39.568002Z",
     "shell.execute_reply": "2023-07-25T07:02:39.566780Z"
    },
    "papermill": {
     "duration": 33.359574,
     "end_time": "2023-07-25T07:02:39.571037",
     "exception": false,
     "start_time": "2023-07-25T07:02:06.211463",
     "status": "completed"
    },
    "tags": []
   },
   "outputs": [],
   "source": [
    "def embeddings_out(data, max_len = 20):\n",
    "    output = np.zeros((data.shape[0], 20, 300))\n",
    "    for row in range(len(data)):\n",
    "        curr_length = min(max_len, len(data.iloc[row]['tokens']))\n",
    "        for token in range(curr_length):\n",
    "            word = str(data.iloc[row]['tokens'][token])\n",
    "            if word in embeddings:\n",
    "                output[row][token] = embeddings[data.iloc[row]['tokens'][token]]\n",
    "    return output \n",
    "\n",
    "X = embeddings_out(data)\n"
   ]
  },
  {
   "cell_type": "code",
   "execution_count": 32,
   "id": "a7539c29",
   "metadata": {
    "execution": {
     "iopub.execute_input": "2023-07-25T07:02:39.616008Z",
     "iopub.status.busy": "2023-07-25T07:02:39.615227Z",
     "iopub.status.idle": "2023-07-25T07:02:39.623461Z",
     "shell.execute_reply": "2023-07-25T07:02:39.622286Z"
    },
    "papermill": {
     "duration": 0.033607,
     "end_time": "2023-07-25T07:02:39.625894",
     "exception": false,
     "start_time": "2023-07-25T07:02:39.592287",
     "status": "completed"
    },
    "tags": []
   },
   "outputs": [
    {
     "data": {
      "text/plain": [
       "(10262, 20, 300)"
      ]
     },
     "execution_count": 32,
     "metadata": {},
     "output_type": "execute_result"
    }
   ],
   "source": [
    "X.shape"
   ]
  },
  {
   "cell_type": "markdown",
   "id": "eea8ce4f",
   "metadata": {
    "papermill": {
     "duration": 0.020671,
     "end_time": "2023-07-25T07:02:39.667846",
     "exception": false,
     "start_time": "2023-07-25T07:02:39.647175",
     "status": "completed"
    },
    "tags": []
   },
   "source": [
    "# 5. Model Train/Test Split"
   ]
  },
  {
   "cell_type": "code",
   "execution_count": 33,
   "id": "9ba8950c",
   "metadata": {
    "execution": {
     "iopub.execute_input": "2023-07-25T07:02:39.711946Z",
     "iopub.status.busy": "2023-07-25T07:02:39.711537Z",
     "iopub.status.idle": "2023-07-25T07:02:39.717814Z",
     "shell.execute_reply": "2023-07-25T07:02:39.716330Z"
    },
    "papermill": {
     "duration": 0.031699,
     "end_time": "2023-07-25T07:02:39.720429",
     "exception": false,
     "start_time": "2023-07-25T07:02:39.688730",
     "status": "completed"
    },
    "tags": []
   },
   "outputs": [],
   "source": [
    "x_train, x_test, y_train = X[:len(train_data)], X[len(train_data):], train_data['target'].values"
   ]
  },
  {
   "cell_type": "code",
   "execution_count": 34,
   "id": "3df1e22b",
   "metadata": {
    "execution": {
     "iopub.execute_input": "2023-07-25T07:02:39.765186Z",
     "iopub.status.busy": "2023-07-25T07:02:39.764706Z",
     "iopub.status.idle": "2023-07-25T07:02:39.771609Z",
     "shell.execute_reply": "2023-07-25T07:02:39.770510Z"
    },
    "papermill": {
     "duration": 0.031969,
     "end_time": "2023-07-25T07:02:39.774150",
     "exception": false,
     "start_time": "2023-07-25T07:02:39.742181",
     "status": "completed"
    },
    "tags": []
   },
   "outputs": [
    {
     "name": "stdout",
     "output_type": "stream",
     "text": [
      " x_train:  6999\n",
      " x_test:  3263\n",
      " y_train:  6999\n"
     ]
    }
   ],
   "source": [
    "print(\" x_train: \", len(x_train))\n",
    "print(\" x_test: \", len(x_test))\n",
    "print(\" y_train: \", len(y_train))"
   ]
  },
  {
   "cell_type": "markdown",
   "id": "4a0c640a",
   "metadata": {
    "papermill": {
     "duration": 0.021149,
     "end_time": "2023-07-25T07:02:39.817419",
     "exception": false,
     "start_time": "2023-07-25T07:02:39.796270",
     "status": "completed"
    },
    "tags": []
   },
   "source": [
    "> # 5. 1 Modeling - LSTM "
   ]
  },
  {
   "cell_type": "code",
   "execution_count": 35,
   "id": "8bf99fbb",
   "metadata": {
    "execution": {
     "iopub.execute_input": "2023-07-25T07:02:39.861905Z",
     "iopub.status.busy": "2023-07-25T07:02:39.861488Z",
     "iopub.status.idle": "2023-07-25T07:02:39.867088Z",
     "shell.execute_reply": "2023-07-25T07:02:39.865833Z"
    },
    "papermill": {
     "duration": 0.031097,
     "end_time": "2023-07-25T07:02:39.869806",
     "exception": false,
     "start_time": "2023-07-25T07:02:39.838709",
     "status": "completed"
    },
    "tags": []
   },
   "outputs": [],
   "source": [
    "from keras.layers import LSTM, Dense, Dropout, Activation\n",
    "from keras.models import Sequential \n",
    "from keras.callbacks import EarlyStopping"
   ]
  },
  {
   "cell_type": "code",
   "execution_count": 36,
   "id": "6f2f7aca",
   "metadata": {
    "execution": {
     "iopub.execute_input": "2023-07-25T07:02:39.915075Z",
     "iopub.status.busy": "2023-07-25T07:02:39.914630Z",
     "iopub.status.idle": "2023-07-25T07:02:39.924456Z",
     "shell.execute_reply": "2023-07-25T07:02:39.923057Z"
    },
    "papermill": {
     "duration": 0.035611,
     "end_time": "2023-07-25T07:02:39.926933",
     "exception": false,
     "start_time": "2023-07-25T07:02:39.891322",
     "status": "completed"
    },
    "tags": []
   },
   "outputs": [],
   "source": [
    "\n",
    "def create_model():\n",
    "    model = Sequential()\n",
    "    model.add(LSTM(64, input_shape=(X.shape[1], X.shape[2]), return_sequences=True))\n",
    "    model.add(Dropout(0.2))\n",
    "    model.add(LSTM(64, input_shape=(X.shape[1], X.shape[2]), return_sequences=True))\n",
    "    model.add(Dropout(0.2))\n",
    "    model.add(LSTM(64, input_shape=(X.shape[1], X.shape[2])))\n",
    "    model.add(Dropout(0.1))\n",
    "    model.add(Dense(64, activation='relu'))\n",
    "    model.add(Dense(64, activation='relu'))\n",
    "    model.add(Dense(1, activation='sigmoid'))\n",
    "    model.compile(optimizer='adam', loss='binary_crossentropy', metrics=['accuracy'])\n",
    "    return model\n",
    "    "
   ]
  },
  {
   "cell_type": "code",
   "execution_count": 37,
   "id": "763a3251",
   "metadata": {
    "execution": {
     "iopub.execute_input": "2023-07-25T07:02:39.972152Z",
     "iopub.status.busy": "2023-07-25T07:02:39.971704Z",
     "iopub.status.idle": "2023-07-25T07:02:41.248560Z",
     "shell.execute_reply": "2023-07-25T07:02:41.246773Z"
    },
    "papermill": {
     "duration": 1.311622,
     "end_time": "2023-07-25T07:02:41.260406",
     "exception": false,
     "start_time": "2023-07-25T07:02:39.948784",
     "status": "completed"
    },
    "tags": []
   },
   "outputs": [
    {
     "name": "stdout",
     "output_type": "stream",
     "text": [
      "Model: \"sequential\"\n",
      "_________________________________________________________________\n",
      " Layer (type)                Output Shape              Param #   \n",
      "=================================================================\n",
      " lstm (LSTM)                 (None, 20, 64)            93440     \n",
      "                                                                 \n",
      " dropout (Dropout)           (None, 20, 64)            0         \n",
      "                                                                 \n",
      " lstm_1 (LSTM)               (None, 20, 64)            33024     \n",
      "                                                                 \n",
      " dropout_1 (Dropout)         (None, 20, 64)            0         \n",
      "                                                                 \n",
      " lstm_2 (LSTM)               (None, 64)                33024     \n",
      "                                                                 \n",
      " dropout_2 (Dropout)         (None, 64)                0         \n",
      "                                                                 \n",
      " dense (Dense)               (None, 64)                4160      \n",
      "                                                                 \n",
      " dense_1 (Dense)             (None, 64)                4160      \n",
      "                                                                 \n",
      " dense_2 (Dense)             (None, 1)                 65        \n",
      "                                                                 \n",
      "=================================================================\n",
      "Total params: 167,873\n",
      "Trainable params: 167,873\n",
      "Non-trainable params: 0\n",
      "_________________________________________________________________\n"
     ]
    }
   ],
   "source": [
    "model = create_model()\n",
    "model.summary()"
   ]
  },
  {
   "cell_type": "code",
   "execution_count": 38,
   "id": "84b8024a",
   "metadata": {
    "execution": {
     "iopub.execute_input": "2023-07-25T07:02:41.310588Z",
     "iopub.status.busy": "2023-07-25T07:02:41.310170Z",
     "iopub.status.idle": "2023-07-25T07:03:30.907732Z",
     "shell.execute_reply": "2023-07-25T07:03:30.906714Z"
    },
    "papermill": {
     "duration": 49.625297,
     "end_time": "2023-07-25T07:03:30.910058",
     "exception": false,
     "start_time": "2023-07-25T07:02:41.284761",
     "status": "completed"
    },
    "tags": []
   },
   "outputs": [
    {
     "name": "stdout",
     "output_type": "stream",
     "text": [
      "Epoch 1/100\n",
      "99/99 [==============================] - 15s 73ms/step - loss: 0.5570 - accuracy: 0.7293 - val_loss: 0.5552 - val_accuracy: 0.7271\n",
      "Epoch 2/100\n",
      "99/99 [==============================] - 6s 59ms/step - loss: 0.4918 - accuracy: 0.7774 - val_loss: 0.5286 - val_accuracy: 0.7357\n",
      "Epoch 3/100\n",
      "99/99 [==============================] - 6s 58ms/step - loss: 0.4633 - accuracy: 0.7933 - val_loss: 0.5615 - val_accuracy: 0.7157\n",
      "Epoch 4/100\n",
      "99/99 [==============================] - 6s 58ms/step - loss: 0.4348 - accuracy: 0.8077 - val_loss: 0.5633 - val_accuracy: 0.7057\n",
      "Epoch 5/100\n",
      "99/99 [==============================] - 6s 57ms/step - loss: 0.4084 - accuracy: 0.8176 - val_loss: 0.5612 - val_accuracy: 0.7271\n",
      "Epoch 6/100\n",
      "99/99 [==============================] - 6s 57ms/step - loss: 0.3767 - accuracy: 0.8392 - val_loss: 0.5645 - val_accuracy: 0.7243\n",
      "Epoch 7/100\n",
      "99/99 [==============================] - 6s 58ms/step - loss: 0.3566 - accuracy: 0.8457 - val_loss: 0.5946 - val_accuracy: 0.7171\n",
      "Epoch 7: early stopping\n"
     ]
    }
   ],
   "source": [
    "early_stop = EarlyStopping(monitor='val_loss', mode='min', verbose=1, patience=5)\n",
    "\n",
    "hist = model.fit(x_train,y_train,epochs=100,batch_size=64,shuffle=True,validation_split=0.1,callbacks=[early_stop])"
   ]
  },
  {
   "cell_type": "code",
   "execution_count": 39,
   "id": "4bea0235",
   "metadata": {
    "execution": {
     "iopub.execute_input": "2023-07-25T07:03:31.089224Z",
     "iopub.status.busy": "2023-07-25T07:03:31.088724Z",
     "iopub.status.idle": "2023-07-25T07:06:20.900282Z",
     "shell.execute_reply": "2023-07-25T07:06:20.899194Z"
    },
    "papermill": {
     "duration": 169.905431,
     "end_time": "2023-07-25T07:06:20.903282",
     "exception": false,
     "start_time": "2023-07-25T07:03:30.997851",
     "status": "completed"
    },
    "tags": []
   },
   "outputs": [
    {
     "name": "stdout",
     "output_type": "stream",
     "text": [
      "Epoch 1/20\n",
      "110/110 [==============================] - 13s 54ms/step - loss: 0.5614 - accuracy: 0.7241\n",
      "Epoch 2/20\n",
      "110/110 [==============================] - 6s 53ms/step - loss: 0.4900 - accuracy: 0.7751\n",
      "Epoch 3/20\n",
      "110/110 [==============================] - 6s 55ms/step - loss: 0.4629 - accuracy: 0.7868\n",
      "Epoch 4/20\n",
      "110/110 [==============================] - 6s 57ms/step - loss: 0.4342 - accuracy: 0.8035\n",
      "Epoch 5/20\n",
      "110/110 [==============================] - 6s 55ms/step - loss: 0.4104 - accuracy: 0.8171\n",
      "Epoch 6/20\n",
      "110/110 [==============================] - 6s 55ms/step - loss: 0.3909 - accuracy: 0.8290\n",
      "Epoch 7/20\n",
      "110/110 [==============================] - 6s 54ms/step - loss: 0.3561 - accuracy: 0.8443\n",
      "Epoch 8/20\n",
      "110/110 [==============================] - 6s 56ms/step - loss: 0.3307 - accuracy: 0.8558\n",
      "Epoch 9/20\n",
      "110/110 [==============================] - 7s 60ms/step - loss: 0.3115 - accuracy: 0.8713\n",
      "Epoch 10/20\n",
      "110/110 [==============================] - 6s 55ms/step - loss: 0.2821 - accuracy: 0.8798\n",
      "Epoch 11/20\n",
      "110/110 [==============================] - 6s 55ms/step - loss: 0.2569 - accuracy: 0.8984\n",
      "Epoch 12/20\n",
      "110/110 [==============================] - 6s 55ms/step - loss: 0.2374 - accuracy: 0.9041\n",
      "Epoch 13/20\n",
      "110/110 [==============================] - 6s 56ms/step - loss: 0.2186 - accuracy: 0.9111\n",
      "Epoch 14/20\n",
      "110/110 [==============================] - 6s 57ms/step - loss: 0.2019 - accuracy: 0.9191\n",
      "Epoch 15/20\n",
      "110/110 [==============================] - 6s 54ms/step - loss: 0.1783 - accuracy: 0.9304\n",
      "Epoch 16/20\n",
      "110/110 [==============================] - 6s 56ms/step - loss: 0.1767 - accuracy: 0.9283\n",
      "Epoch 17/20\n",
      "110/110 [==============================] - 6s 55ms/step - loss: 0.1657 - accuracy: 0.9294\n",
      "Epoch 18/20\n",
      "110/110 [==============================] - 6s 55ms/step - loss: 0.1544 - accuracy: 0.9371\n",
      "Epoch 19/20\n",
      "110/110 [==============================] - 6s 58ms/step - loss: 0.1593 - accuracy: 0.9350\n",
      "Epoch 20/20\n",
      "110/110 [==============================] - 6s 54ms/step - loss: 0.1397 - accuracy: 0.9434\n"
     ]
    }
   ],
   "source": [
    "model = create_model()\n",
    "history = model.fit(x=x_train,y=y_train,\n",
    "          batch_size=64,epochs=20,shuffle=True)"
   ]
  },
  {
   "cell_type": "code",
   "execution_count": 40,
   "id": "b0191a50",
   "metadata": {
    "execution": {
     "iopub.execute_input": "2023-07-25T07:06:21.554150Z",
     "iopub.status.busy": "2023-07-25T07:06:21.553583Z",
     "iopub.status.idle": "2023-07-25T07:06:24.718204Z",
     "shell.execute_reply": "2023-07-25T07:06:24.717155Z"
    },
    "papermill": {
     "duration": 3.529258,
     "end_time": "2023-07-25T07:06:24.720786",
     "exception": false,
     "start_time": "2023-07-25T07:06:21.191528",
     "status": "completed"
    },
    "tags": []
   },
   "outputs": [
    {
     "name": "stdout",
     "output_type": "stream",
     "text": [
      "102/102 [==============================] - 3s 15ms/step\n"
     ]
    },
    {
     "data": {
      "text/plain": [
       "array([[1],\n",
       "       [1],\n",
       "       [1],\n",
       "       ...,\n",
       "       [1],\n",
       "       [1],\n",
       "       [1]], dtype=int32)"
      ]
     },
     "execution_count": 40,
     "metadata": {},
     "output_type": "execute_result"
    }
   ],
   "source": [
    "pred = (model.predict(x_test) > 0.5).astype(\"int32\")\n",
    "pred"
   ]
  },
  {
   "cell_type": "code",
   "execution_count": 41,
   "id": "103bc960",
   "metadata": {
    "execution": {
     "iopub.execute_input": "2023-07-25T07:06:25.298942Z",
     "iopub.status.busy": "2023-07-25T07:06:25.297682Z",
     "iopub.status.idle": "2023-07-25T07:06:25.314439Z",
     "shell.execute_reply": "2023-07-25T07:06:25.313162Z"
    },
    "papermill": {
     "duration": 0.307366,
     "end_time": "2023-07-25T07:06:25.316847",
     "exception": false,
     "start_time": "2023-07-25T07:06:25.009481",
     "status": "completed"
    },
    "tags": []
   },
   "outputs": [
    {
     "data": {
      "text/html": [
       "<div>\n",
       "<style scoped>\n",
       "    .dataframe tbody tr th:only-of-type {\n",
       "        vertical-align: middle;\n",
       "    }\n",
       "\n",
       "    .dataframe tbody tr th {\n",
       "        vertical-align: top;\n",
       "    }\n",
       "\n",
       "    .dataframe thead th {\n",
       "        text-align: right;\n",
       "    }\n",
       "</style>\n",
       "<table border=\"1\" class=\"dataframe\">\n",
       "  <thead>\n",
       "    <tr style=\"text-align: right;\">\n",
       "      <th></th>\n",
       "      <th>id</th>\n",
       "      <th>target</th>\n",
       "    </tr>\n",
       "  </thead>\n",
       "  <tbody>\n",
       "    <tr>\n",
       "      <th>0</th>\n",
       "      <td>0</td>\n",
       "      <td>1</td>\n",
       "    </tr>\n",
       "    <tr>\n",
       "      <th>1</th>\n",
       "      <td>2</td>\n",
       "      <td>1</td>\n",
       "    </tr>\n",
       "    <tr>\n",
       "      <th>2</th>\n",
       "      <td>3</td>\n",
       "      <td>1</td>\n",
       "    </tr>\n",
       "    <tr>\n",
       "      <th>3</th>\n",
       "      <td>9</td>\n",
       "      <td>1</td>\n",
       "    </tr>\n",
       "    <tr>\n",
       "      <th>4</th>\n",
       "      <td>11</td>\n",
       "      <td>1</td>\n",
       "    </tr>\n",
       "  </tbody>\n",
       "</table>\n",
       "</div>"
      ],
      "text/plain": [
       "   id  target\n",
       "0   0       1\n",
       "1   2       1\n",
       "2   3       1\n",
       "3   9       1\n",
       "4  11       1"
      ]
     },
     "execution_count": 41,
     "metadata": {},
     "output_type": "execute_result"
    }
   ],
   "source": [
    "result = pd.DataFrame()\n",
    "result['id'] = test_data['id']\n",
    "result['target'] = pred\n",
    "result.head()"
   ]
  },
  {
   "cell_type": "code",
   "execution_count": 42,
   "id": "ad48e79a",
   "metadata": {
    "execution": {
     "iopub.execute_input": "2023-07-25T07:06:25.894866Z",
     "iopub.status.busy": "2023-07-25T07:06:25.894194Z",
     "iopub.status.idle": "2023-07-25T07:06:25.910255Z",
     "shell.execute_reply": "2023-07-25T07:06:25.909212Z"
    },
    "papermill": {
     "duration": 0.30977,
     "end_time": "2023-07-25T07:06:25.912866",
     "exception": false,
     "start_time": "2023-07-25T07:06:25.603096",
     "status": "completed"
    },
    "tags": []
   },
   "outputs": [],
   "source": [
    "result.to_csv('submission_LSTM.csv',index=False)"
   ]
  },
  {
   "cell_type": "markdown",
   "id": "7f504524",
   "metadata": {
    "papermill": {
     "duration": 0.288032,
     "end_time": "2023-07-25T07:06:26.496400",
     "exception": false,
     "start_time": "2023-07-25T07:06:26.208368",
     "status": "completed"
    },
    "tags": []
   },
   "source": [
    "> # 5.2 Modelling - BERT"
   ]
  },
  {
   "cell_type": "code",
   "execution_count": null,
   "id": "29299b8e",
   "metadata": {
    "papermill": {
     "duration": 0.291007,
     "end_time": "2023-07-25T07:06:27.072380",
     "exception": false,
     "start_time": "2023-07-25T07:06:26.781373",
     "status": "completed"
    },
    "tags": []
   },
   "outputs": [],
   "source": []
  }
 ],
 "metadata": {
  "kernelspec": {
   "display_name": "Python 3",
   "language": "python",
   "name": "python3"
  },
  "language_info": {
   "codemirror_mode": {
    "name": "ipython",
    "version": 3
   },
   "file_extension": ".py",
   "mimetype": "text/x-python",
   "name": "python",
   "nbconvert_exporter": "python",
   "pygments_lexer": "ipython3",
   "version": "3.10.12"
  },
  "papermill": {
   "default_parameters": {},
   "duration": 385.270406,
   "end_time": "2023-07-25T07:06:31.010471",
   "environment_variables": {},
   "exception": null,
   "input_path": "__notebook__.ipynb",
   "output_path": "__notebook__.ipynb",
   "parameters": {},
   "start_time": "2023-07-25T07:00:05.740065",
   "version": "2.4.0"
  }
 },
 "nbformat": 4,
 "nbformat_minor": 5
}
